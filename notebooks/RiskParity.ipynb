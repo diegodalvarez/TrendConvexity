{
 "cells": [
  {
   "cell_type": "markdown",
   "id": "6795b3c8-0d3c-4c12-9df7-2f20bcd359dd",
   "metadata": {},
   "source": [
    "# Risk Parity & SG Trend Follower Replication"
   ]
  },
  {
   "cell_type": "code",
   "execution_count": 1,
   "id": "6faec78a-0590-449f-a23f-2799c0cb80c0",
   "metadata": {},
   "outputs": [],
   "source": [
    "import os\n",
    "import numpy as np\n",
    "import pandas as pd\n",
    "import datetime as dt\n",
    "\n",
    "import matplotlib.pyplot as plt"
   ]
  },
  {
   "cell_type": "markdown",
   "id": "2303726c-561d-49b0-84de-a958fb984ce9",
   "metadata": {},
   "source": [
    "# Get Data"
   ]
  },
  {
   "cell_type": "code",
   "execution_count": 2,
   "id": "d539fc02-7802-48f3-beb6-669c84885046",
   "metadata": {},
   "outputs": [],
   "source": [
    "def _get_raw_futures() -> pd.DataFrame: \n",
    "\n",
    "    data_path = os.path.join(os.path.abspath(os.path.join(os.getcwd(), os.pardir)), \"data\")\n",
    "    futures_path = os.path.join(data_path, \"futures.parquet\")\n",
    "    good_contracts = [\"CL\", \"GC\", \"CO\", \"S\", \"ES\", \"VG\", \"Z\", \"NK\", \"TY\", \"G\", \"RX\", \"JGB\"]\n",
    "\n",
    "    df_tmp = (pd.read_parquet(\n",
    "        path = futures_path, engine = \"pyarrow\").\n",
    "        assign(\n",
    "            sec_tmp = lambda x: x.security.str.split(\" \").str[0],\n",
    "            sec_name = lambda x: np.where(x.sec_tmp.str.len() > 1, x.sec_tmp.str[:-1], x.sec_tmp))\n",
    "        [[\"date\", \"sec_name\", \"PX_LAST\"]].\n",
    "        rename(columns = {\"sec_name\": \"security\"}).\n",
    "        query(\"security == @good_contracts\"))\n",
    "    \n",
    "    return df_tmp\n",
    "\n",
    "df_fut_raw = _get_raw_futures()"
   ]
  },
  {
   "cell_type": "code",
   "execution_count": 3,
   "id": "d438bbfe-eb69-48e8-b6dc-717de272d90b",
   "metadata": {},
   "outputs": [],
   "source": [
    "def _get_raw_fx() -> pd.DataFrame: \n",
    "    \n",
    "    data_path = os.path.join(os.path.abspath(os.path.join(os.getcwd(), os.pardir)), \"data\")\n",
    "    fx_path = os.path.join(data_path, \"fx.parquet\")\n",
    "\n",
    "    df_tmp = (pd.read_parquet(\n",
    "        path = fx_path, engine = \"pyarrow\")\n",
    "        [\"Adj Close\"].\n",
    "        reset_index().\n",
    "        melt(id_vars = \"Date\").\n",
    "        assign(variable = lambda x: x.variable.str.split(\"=\").str[0]))\n",
    "    \n",
    "    return df_tmp\n",
    "\n",
    "df_fx_raw = _get_raw_fx()"
   ]
  },
  {
   "cell_type": "code",
   "execution_count": 4,
   "id": "050b3b05-5a8d-47d5-8463-d04fd4f2e4aa",
   "metadata": {},
   "outputs": [],
   "source": [
    "def prep_data() -> pd.DataFrame:\n",
    "    \n",
    "    df_fx_prep = (_get_raw_fx().rename(\n",
    "        columns = {\n",
    "            \"variable\": \"security\",\n",
    "            \"value\": \"px\",\n",
    "            \"Date\": \"date\"}))\n",
    "\n",
    "    df_fut_prep = (_get_raw_futures().rename(\n",
    "        columns = {\n",
    "            \"PX_LAST\": \"px\"}))\n",
    "\n",
    "    df_combined = pd.concat([df_fx_prep, df_fut_prep])\n",
    "    return df_combined\n",
    "\n",
    "df_combined = prep_data()"
   ]
  },
  {
   "cell_type": "code",
   "execution_count": 5,
   "id": "dd806631-295c-40df-977a-93678536026f",
   "metadata": {},
   "outputs": [
    {
     "data": {
      "text/plain": [
       "['AUD', 'CHF', 'ES', 'EUR', 'GBP', 'JPY', 'NK', 'VG', 'Z']"
      ]
     },
     "execution_count": 5,
     "metadata": {},
     "output_type": "execute_result"
    }
   ],
   "source": [
    "df_combined.security.drop_duplicates().sort_values().to_list()"
   ]
  },
  {
   "cell_type": "code",
   "execution_count": null,
   "id": "d87d9344-ad53-4dc9-950c-2c27860a8eb5",
   "metadata": {},
   "outputs": [],
   "source": []
  }
 ],
 "metadata": {
  "kernelspec": {
   "display_name": "Python 3 (ipykernel)",
   "language": "python",
   "name": "python3"
  },
  "language_info": {
   "codemirror_mode": {
    "name": "ipython",
    "version": 3
   },
   "file_extension": ".py",
   "mimetype": "text/x-python",
   "name": "python",
   "nbconvert_exporter": "python",
   "pygments_lexer": "ipython3",
   "version": "3.8.5"
  }
 },
 "nbformat": 4,
 "nbformat_minor": 5
}
